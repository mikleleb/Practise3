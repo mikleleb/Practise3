{
  "nbformat": 4,
  "nbformat_minor": 0,
  "metadata": {
    "colab": {
      "name": "Untitled3.ipynb",
      "provenance": [],
      "collapsed_sections": []
    },
    "kernelspec": {
      "name": "python3",
      "display_name": "Python 3"
    }
  },
  "cells": [
    {
      "cell_type": "code",
      "metadata": {
        "id": "MsPepnjqsQz0"
      },
      "source": [
        "import numpy as np\n",
        "import pandas as pd\n",
        "from sklearn.model_selection import train_test_split\n",
        "import tqdm"
      ],
      "execution_count": 6,
      "outputs": []
    },
    {
      "cell_type": "code",
      "metadata": {
        "id": "roRLiv3psmwB",
        "outputId": "23ad50ae-f270-4416-92e5-3a753e675750",
        "colab": {
          "base_uri": "https://localhost:8080/",
          "height": 35
        }
      },
      "source": [
        "from google.colab import drive \n",
        "drive.mount('/content/gdrive')\n",
        "catalogue = pd.read_json('/content/gdrive/My Drive/Rekko data/REKKO/data/catalogue.json').T\n",
        "# data2 = pd.read_csv('/content/gdrive/My Drive/Retail_Data_Transactions.csv')\n",
        "# data = data1.set_index('customer_id').join(data2.set_index('customer_id'), lsuffix='_trgt').reset_index()"
      ],
      "execution_count": 18,
      "outputs": [
        {
          "output_type": "stream",
          "text": [
            "Drive already mounted at /content/gdrive; to attempt to forcibly remount, call drive.mount(\"/content/gdrive\", force_remount=True).\n"
          ],
          "name": "stdout"
        }
      ]
    },
    {
      "cell_type": "code",
      "metadata": {
        "id": "zTzFyGAdjQ2x"
      },
      "source": [
        "import warnings\n",
        "warnings.filterwarnings('ignore')"
      ],
      "execution_count": 71,
      "outputs": []
    },
    {
      "cell_type": "code",
      "metadata": {
        "id": "wULMhqaauMFE"
      },
      "source": [
        "catalogue['element_uid'] = catalogue.index"
      ],
      "execution_count": 19,
      "outputs": []
    },
    {
      "cell_type": "code",
      "metadata": {
        "id": "zJ4M3j8QuNSR",
        "outputId": "ac3b7bb9-7484-4b84-be00-62ff616735cc",
        "colab": {
          "base_uri": "https://localhost:8080/",
          "height": 204
        }
      },
      "source": [
        "catalogue.head()"
      ],
      "execution_count": 20,
      "outputs": [
        {
          "output_type": "execute_result",
          "data": {
            "text/html": [
              "<div>\n",
              "<style scoped>\n",
              "    .dataframe tbody tr th:only-of-type {\n",
              "        vertical-align: middle;\n",
              "    }\n",
              "\n",
              "    .dataframe tbody tr th {\n",
              "        vertical-align: top;\n",
              "    }\n",
              "\n",
              "    .dataframe thead th {\n",
              "        text-align: right;\n",
              "    }\n",
              "</style>\n",
              "<table border=\"1\" class=\"dataframe\">\n",
              "  <thead>\n",
              "    <tr style=\"text-align: right;\">\n",
              "      <th></th>\n",
              "      <th>type</th>\n",
              "      <th>availability</th>\n",
              "      <th>duration</th>\n",
              "      <th>feature_1</th>\n",
              "      <th>feature_2</th>\n",
              "      <th>feature_3</th>\n",
              "      <th>feature_4</th>\n",
              "      <th>feature_5</th>\n",
              "      <th>attributes</th>\n",
              "      <th>element_uid</th>\n",
              "    </tr>\n",
              "  </thead>\n",
              "  <tbody>\n",
              "    <tr>\n",
              "      <th>1983</th>\n",
              "      <td>movie</td>\n",
              "      <td>[purchase, rent, subscription]</td>\n",
              "      <td>140</td>\n",
              "      <td>1.65722e+06</td>\n",
              "      <td>0.75361</td>\n",
              "      <td>39</td>\n",
              "      <td>1.11941</td>\n",
              "      <td>0</td>\n",
              "      <td>[1, 2, 3, 4, 5, 6, 7, 8, 9, 10, 11, 12, 13, 14...</td>\n",
              "      <td>1983</td>\n",
              "    </tr>\n",
              "    <tr>\n",
              "      <th>3783</th>\n",
              "      <td>movie</td>\n",
              "      <td>[purchase, rent, subscription]</td>\n",
              "      <td>110</td>\n",
              "      <td>3.55652e+07</td>\n",
              "      <td>0.766254</td>\n",
              "      <td>41</td>\n",
              "      <td>1.1386</td>\n",
              "      <td>0.654707</td>\n",
              "      <td>[1, 26, 27, 28, 29, 7, 30, 31, 32, 10, 14, 15,...</td>\n",
              "      <td>3783</td>\n",
              "    </tr>\n",
              "    <tr>\n",
              "      <th>5208</th>\n",
              "      <td>movie</td>\n",
              "      <td>[purchase, rent, subscription]</td>\n",
              "      <td>90</td>\n",
              "      <td>1.32707e+07</td>\n",
              "      <td>0.765425</td>\n",
              "      <td>27</td>\n",
              "      <td>1.13181</td>\n",
              "      <td>0.592716</td>\n",
              "      <td>[1, 38, 39, 40, 7, 41, 42, 43, 14, 15, 17, 18,...</td>\n",
              "      <td>5208</td>\n",
              "    </tr>\n",
              "    <tr>\n",
              "      <th>9744</th>\n",
              "      <td>movie</td>\n",
              "      <td>[purchase, rent, subscription]</td>\n",
              "      <td>120</td>\n",
              "      <td>2.17499e+07</td>\n",
              "      <td>0.757874</td>\n",
              "      <td>26</td>\n",
              "      <td>1.13353</td>\n",
              "      <td>0.654707</td>\n",
              "      <td>[1, 47, 48, 49, 50, 51, 52, 53, 32, 42, 54, 14...</td>\n",
              "      <td>9744</td>\n",
              "    </tr>\n",
              "    <tr>\n",
              "      <th>1912</th>\n",
              "      <td>movie</td>\n",
              "      <td>[purchase, rent]</td>\n",
              "      <td>110</td>\n",
              "      <td>9.21296e+06</td>\n",
              "      <td>0.759566</td>\n",
              "      <td>7</td>\n",
              "      <td>1.11013</td>\n",
              "      <td>0.654707</td>\n",
              "      <td>[1, 59, 60, 61, 62, 7, 52, 63, 10, 42, 54, 17,...</td>\n",
              "      <td>1912</td>\n",
              "    </tr>\n",
              "  </tbody>\n",
              "</table>\n",
              "</div>"
            ],
            "text/plain": [
              "       type  ... element_uid\n",
              "1983  movie  ...        1983\n",
              "3783  movie  ...        3783\n",
              "5208  movie  ...        5208\n",
              "9744  movie  ...        9744\n",
              "1912  movie  ...        1912\n",
              "\n",
              "[5 rows x 10 columns]"
            ]
          },
          "metadata": {
            "tags": []
          },
          "execution_count": 20
        }
      ]
    },
    {
      "cell_type": "code",
      "metadata": {
        "id": "tAS9k3FfuU3w"
      },
      "source": [
        "transactions = pd.read_csv('/content/gdrive/My Drive/Rekko data/REKKO/data/transactions.csv',\n",
        "    dtype={\n",
        "        'element_uid': np.uint16,\n",
        "        'user_uid': np.uint32,\n",
        "        'consumption_mode': 'category',\n",
        "        'ts': np.float64,\n",
        "        'watched_time': np.uint64,\n",
        "        'device_type': np.uint8,\n",
        "        'device_manufacturer': np.uint8\n",
        "    }\n",
        ")"
      ],
      "execution_count": 21,
      "outputs": []
    },
    {
      "cell_type": "code",
      "metadata": {
        "id": "CduqEKjzuXw_",
        "outputId": "ecf8a735-bea6-4b69-ee16-973362e3dd84",
        "colab": {
          "base_uri": "https://localhost:8080/",
          "height": 204
        }
      },
      "source": [
        "transactions.head()"
      ],
      "execution_count": 22,
      "outputs": [
        {
          "output_type": "execute_result",
          "data": {
            "text/html": [
              "<div>\n",
              "<style scoped>\n",
              "    .dataframe tbody tr th:only-of-type {\n",
              "        vertical-align: middle;\n",
              "    }\n",
              "\n",
              "    .dataframe tbody tr th {\n",
              "        vertical-align: top;\n",
              "    }\n",
              "\n",
              "    .dataframe thead th {\n",
              "        text-align: right;\n",
              "    }\n",
              "</style>\n",
              "<table border=\"1\" class=\"dataframe\">\n",
              "  <thead>\n",
              "    <tr style=\"text-align: right;\">\n",
              "      <th></th>\n",
              "      <th>element_uid</th>\n",
              "      <th>user_uid</th>\n",
              "      <th>consumption_mode</th>\n",
              "      <th>ts</th>\n",
              "      <th>watched_time</th>\n",
              "      <th>device_type</th>\n",
              "      <th>device_manufacturer</th>\n",
              "    </tr>\n",
              "  </thead>\n",
              "  <tbody>\n",
              "    <tr>\n",
              "      <th>0</th>\n",
              "      <td>3336</td>\n",
              "      <td>5177</td>\n",
              "      <td>S</td>\n",
              "      <td>4.430518e+07</td>\n",
              "      <td>4282</td>\n",
              "      <td>0</td>\n",
              "      <td>50</td>\n",
              "    </tr>\n",
              "    <tr>\n",
              "      <th>1</th>\n",
              "      <td>481</td>\n",
              "      <td>593316</td>\n",
              "      <td>S</td>\n",
              "      <td>4.430518e+07</td>\n",
              "      <td>2989</td>\n",
              "      <td>0</td>\n",
              "      <td>11</td>\n",
              "    </tr>\n",
              "    <tr>\n",
              "      <th>2</th>\n",
              "      <td>4128</td>\n",
              "      <td>262355</td>\n",
              "      <td>S</td>\n",
              "      <td>4.430518e+07</td>\n",
              "      <td>833</td>\n",
              "      <td>0</td>\n",
              "      <td>50</td>\n",
              "    </tr>\n",
              "    <tr>\n",
              "      <th>3</th>\n",
              "      <td>6272</td>\n",
              "      <td>74296</td>\n",
              "      <td>S</td>\n",
              "      <td>4.430518e+07</td>\n",
              "      <td>2530</td>\n",
              "      <td>0</td>\n",
              "      <td>99</td>\n",
              "    </tr>\n",
              "    <tr>\n",
              "      <th>4</th>\n",
              "      <td>5543</td>\n",
              "      <td>340623</td>\n",
              "      <td>P</td>\n",
              "      <td>4.430518e+07</td>\n",
              "      <td>6282</td>\n",
              "      <td>0</td>\n",
              "      <td>50</td>\n",
              "    </tr>\n",
              "  </tbody>\n",
              "</table>\n",
              "</div>"
            ],
            "text/plain": [
              "   element_uid  user_uid  ... device_type  device_manufacturer\n",
              "0         3336      5177  ...           0                   50\n",
              "1          481    593316  ...           0                   11\n",
              "2         4128    262355  ...           0                   50\n",
              "3         6272     74296  ...           0                   99\n",
              "4         5543    340623  ...           0                   50\n",
              "\n",
              "[5 rows x 7 columns]"
            ]
          },
          "metadata": {
            "tags": []
          },
          "execution_count": 22
        }
      ]
    },
    {
      "cell_type": "code",
      "metadata": {
        "id": "MNuPZK8kud1U"
      },
      "source": [
        "ratings = pd.read_csv('/content/gdrive/My Drive/Rekko data/REKKO/data/ratings.csv')"
      ],
      "execution_count": 23,
      "outputs": []
    },
    {
      "cell_type": "code",
      "metadata": {
        "id": "N4mHUrLxukGB",
        "outputId": "b6a433b2-6eb6-4985-cd21-52ad4a9450c0",
        "colab": {
          "base_uri": "https://localhost:8080/",
          "height": 204
        }
      },
      "source": [
        "ratings.head()"
      ],
      "execution_count": 24,
      "outputs": [
        {
          "output_type": "execute_result",
          "data": {
            "text/html": [
              "<div>\n",
              "<style scoped>\n",
              "    .dataframe tbody tr th:only-of-type {\n",
              "        vertical-align: middle;\n",
              "    }\n",
              "\n",
              "    .dataframe tbody tr th {\n",
              "        vertical-align: top;\n",
              "    }\n",
              "\n",
              "    .dataframe thead th {\n",
              "        text-align: right;\n",
              "    }\n",
              "</style>\n",
              "<table border=\"1\" class=\"dataframe\">\n",
              "  <thead>\n",
              "    <tr style=\"text-align: right;\">\n",
              "      <th></th>\n",
              "      <th>user_uid</th>\n",
              "      <th>element_uid</th>\n",
              "      <th>rating</th>\n",
              "      <th>ts</th>\n",
              "    </tr>\n",
              "  </thead>\n",
              "  <tbody>\n",
              "    <tr>\n",
              "      <th>0</th>\n",
              "      <td>571252</td>\n",
              "      <td>1364</td>\n",
              "      <td>10</td>\n",
              "      <td>4.430517e+07</td>\n",
              "    </tr>\n",
              "    <tr>\n",
              "      <th>1</th>\n",
              "      <td>63140</td>\n",
              "      <td>3037</td>\n",
              "      <td>10</td>\n",
              "      <td>4.430514e+07</td>\n",
              "    </tr>\n",
              "    <tr>\n",
              "      <th>2</th>\n",
              "      <td>443817</td>\n",
              "      <td>4363</td>\n",
              "      <td>8</td>\n",
              "      <td>4.430514e+07</td>\n",
              "    </tr>\n",
              "    <tr>\n",
              "      <th>3</th>\n",
              "      <td>359870</td>\n",
              "      <td>1364</td>\n",
              "      <td>10</td>\n",
              "      <td>4.430506e+07</td>\n",
              "    </tr>\n",
              "    <tr>\n",
              "      <th>4</th>\n",
              "      <td>359870</td>\n",
              "      <td>3578</td>\n",
              "      <td>9</td>\n",
              "      <td>4.430506e+07</td>\n",
              "    </tr>\n",
              "  </tbody>\n",
              "</table>\n",
              "</div>"
            ],
            "text/plain": [
              "   user_uid  element_uid  rating            ts\n",
              "0    571252         1364      10  4.430517e+07\n",
              "1     63140         3037      10  4.430514e+07\n",
              "2    443817         4363       8  4.430514e+07\n",
              "3    359870         1364      10  4.430506e+07\n",
              "4    359870         3578       9  4.430506e+07"
            ]
          },
          "metadata": {
            "tags": []
          },
          "execution_count": 24
        }
      ]
    },
    {
      "cell_type": "code",
      "metadata": {
        "id": "7Ryc3mNpunhK",
        "outputId": "78e7c742-2535-4864-8e0f-1c30f02cb9ba",
        "colab": {
          "base_uri": "https://localhost:8080/",
          "height": 35
        }
      },
      "source": [
        "transactions = transactions.merge(catalogue, how='left', on='element_uid')\n",
        "transactions.loc[:, 'duration'] += 10\n",
        "transactions['duration']  = transactions['duration']*60\n",
        "transactions_small = transactions.loc[transactions.user_uid < transactions.user_uid.quantile(.01)]\n",
        "transactions_test = transactions_small.loc[transactions_small.ts > transactions_small.ts.quantile(.75)].reset_index()\n",
        "transactions_train = transactions_small.loc[transactions_small.ts < transactions_small.ts.quantile(.75)].reset_index()\n",
        "test_user_ids = set(transactions_test[['element_uid', 'user_uid']].itertuples(index=False))\n",
        "train_user_ids = set(transactions_train[['element_uid', 'user_uid']].itertuples(index=False))\n",
        "drop_index = []\n",
        "for row in tqdm.tqdm(ratings.itertuples()):\n",
        "    if (row.element_uid, row.user_uid) in test_user_ids or not (row.element_uid, row.user_uid) in train_user_ids:\n",
        "        drop_index.append(row.Index)\n",
        "ratings.drop(drop_index, inplace=True)\n",
        "ratings.reset_index(inplace=True)\n",
        "transactions_train['target'] = transactions_train.watched_time/transactions_train.duration\n",
        "transactions_test['target'] = transactions_test.watched_time/transactions_test.duration\n",
        "transactions_train.loc[transactions_train['target'] > 1, 'target'] = 1\n",
        "transactions_test.loc[transactions_test['target'] > 1, 'target'] = 1"
      ],
      "execution_count": 25,
      "outputs": [
        {
          "output_type": "stream",
          "text": [
            "438790it [00:00, 525511.39it/s]\n"
          ],
          "name": "stderr"
        }
      ]
    },
    {
      "cell_type": "code",
      "metadata": {
        "id": "pdRHaKHatzid",
        "outputId": "ad946ea4-4f82-4e16-fcea-94e4fcfa0b4c",
        "colab": {
          "base_uri": "https://localhost:8080/",
          "height": 35
        }
      },
      "source": [
        "transactions.target.dtype"
      ],
      "execution_count": 102,
      "outputs": [
        {
          "output_type": "execute_result",
          "data": {
            "text/plain": [
              "dtype('O')"
            ]
          },
          "metadata": {
            "tags": []
          },
          "execution_count": 102
        }
      ]
    },
    {
      "cell_type": "code",
      "metadata": {
        "id": "U2r3JbN3nhlI"
      },
      "source": [
        "transactions['target'] = transactions.watched_time/transactions.duration * 100\n",
        "transactions1 = transactions.sample(20)[['element_uid', 'user_uid', 'target']].groupby(['element_uid', 'user_uid']).apply(lambda x: np.mean(x))"
      ],
      "execution_count": 109,
      "outputs": []
    },
    {
      "cell_type": "code",
      "metadata": {
        "id": "ttU0J4Jknd7F",
        "outputId": "30538f1f-5b81-4b45-94a6-3969588cd62f",
        "colab": {
          "base_uri": "https://localhost:8080/",
          "height": 700
        }
      },
      "source": [
        "transactions1"
      ],
      "execution_count": 110,
      "outputs": [
        {
          "output_type": "execute_result",
          "data": {
            "text/html": [
              "<div>\n",
              "<style scoped>\n",
              "    .dataframe tbody tr th:only-of-type {\n",
              "        vertical-align: middle;\n",
              "    }\n",
              "\n",
              "    .dataframe tbody tr th {\n",
              "        vertical-align: top;\n",
              "    }\n",
              "\n",
              "    .dataframe thead th {\n",
              "        text-align: right;\n",
              "    }\n",
              "</style>\n",
              "<table border=\"1\" class=\"dataframe\">\n",
              "  <thead>\n",
              "    <tr style=\"text-align: right;\">\n",
              "      <th></th>\n",
              "      <th></th>\n",
              "      <th>element_uid</th>\n",
              "      <th>user_uid</th>\n",
              "      <th>target</th>\n",
              "    </tr>\n",
              "    <tr>\n",
              "      <th>element_uid</th>\n",
              "      <th>user_uid</th>\n",
              "      <th></th>\n",
              "      <th></th>\n",
              "      <th></th>\n",
              "    </tr>\n",
              "  </thead>\n",
              "  <tbody>\n",
              "    <tr>\n",
              "      <th>584</th>\n",
              "      <th>326437</th>\n",
              "      <td>584.0</td>\n",
              "      <td>326437.0</td>\n",
              "      <td>2.796296</td>\n",
              "    </tr>\n",
              "    <tr>\n",
              "      <th>702</th>\n",
              "      <th>359438</th>\n",
              "      <td>702.0</td>\n",
              "      <td>359438.0</td>\n",
              "      <td>18.483333</td>\n",
              "    </tr>\n",
              "    <tr>\n",
              "      <th>888</th>\n",
              "      <th>470154</th>\n",
              "      <td>888.0</td>\n",
              "      <td>470154.0</td>\n",
              "      <td>22.069444</td>\n",
              "    </tr>\n",
              "    <tr>\n",
              "      <th>1535</th>\n",
              "      <th>204443</th>\n",
              "      <td>1535.0</td>\n",
              "      <td>204443.0</td>\n",
              "      <td>207.595238</td>\n",
              "    </tr>\n",
              "    <tr>\n",
              "      <th>2070</th>\n",
              "      <th>4744</th>\n",
              "      <td>2070.0</td>\n",
              "      <td>4744.0</td>\n",
              "      <td>55.916667</td>\n",
              "    </tr>\n",
              "    <tr>\n",
              "      <th>2257</th>\n",
              "      <th>376701</th>\n",
              "      <td>2257.0</td>\n",
              "      <td>376701.0</td>\n",
              "      <td>14.194444</td>\n",
              "    </tr>\n",
              "    <tr>\n",
              "      <th>2446</th>\n",
              "      <th>498941</th>\n",
              "      <td>2446.0</td>\n",
              "      <td>498941.0</td>\n",
              "      <td>91.511111</td>\n",
              "    </tr>\n",
              "    <tr>\n",
              "      <th>4141</th>\n",
              "      <th>236834</th>\n",
              "      <td>4141.0</td>\n",
              "      <td>236834.0</td>\n",
              "      <td>90.033333</td>\n",
              "    </tr>\n",
              "    <tr>\n",
              "      <th>5062</th>\n",
              "      <th>329518</th>\n",
              "      <td>5062.0</td>\n",
              "      <td>329518.0</td>\n",
              "      <td>0.000000</td>\n",
              "    </tr>\n",
              "    <tr>\n",
              "      <th>5620</th>\n",
              "      <th>245788</th>\n",
              "      <td>5620.0</td>\n",
              "      <td>245788.0</td>\n",
              "      <td>90.424242</td>\n",
              "    </tr>\n",
              "    <tr>\n",
              "      <th>5876</th>\n",
              "      <th>494188</th>\n",
              "      <td>5876.0</td>\n",
              "      <td>494188.0</td>\n",
              "      <td>17.722222</td>\n",
              "    </tr>\n",
              "    <tr>\n",
              "      <th>5979</th>\n",
              "      <th>205446</th>\n",
              "      <td>5979.0</td>\n",
              "      <td>205446.0</td>\n",
              "      <td>38.683333</td>\n",
              "    </tr>\n",
              "    <tr>\n",
              "      <th>6088</th>\n",
              "      <th>251258</th>\n",
              "      <td>6088.0</td>\n",
              "      <td>251258.0</td>\n",
              "      <td>89.666667</td>\n",
              "    </tr>\n",
              "    <tr>\n",
              "      <th>6157</th>\n",
              "      <th>331957</th>\n",
              "      <td>6157.0</td>\n",
              "      <td>331957.0</td>\n",
              "      <td>0.000000</td>\n",
              "    </tr>\n",
              "    <tr>\n",
              "      <th>6272</th>\n",
              "      <th>19948</th>\n",
              "      <td>6272.0</td>\n",
              "      <td>19948.0</td>\n",
              "      <td>0.242424</td>\n",
              "    </tr>\n",
              "    <tr>\n",
              "      <th>6347</th>\n",
              "      <th>339401</th>\n",
              "      <td>6347.0</td>\n",
              "      <td>339401.0</td>\n",
              "      <td>26.416667</td>\n",
              "    </tr>\n",
              "    <tr>\n",
              "      <th>6523</th>\n",
              "      <th>443142</th>\n",
              "      <td>6523.0</td>\n",
              "      <td>443142.0</td>\n",
              "      <td>94.291667</td>\n",
              "    </tr>\n",
              "    <tr>\n",
              "      <th>9280</th>\n",
              "      <th>507590</th>\n",
              "      <td>9280.0</td>\n",
              "      <td>507590.0</td>\n",
              "      <td>3.575758</td>\n",
              "    </tr>\n",
              "    <tr>\n",
              "      <th>9444</th>\n",
              "      <th>130329</th>\n",
              "      <td>9444.0</td>\n",
              "      <td>130329.0</td>\n",
              "      <td>103.858974</td>\n",
              "    </tr>\n",
              "    <tr>\n",
              "      <th>9591</th>\n",
              "      <th>247599</th>\n",
              "      <td>9591.0</td>\n",
              "      <td>247599.0</td>\n",
              "      <td>45.233333</td>\n",
              "    </tr>\n",
              "  </tbody>\n",
              "</table>\n",
              "</div>"
            ],
            "text/plain": [
              "                      element_uid  user_uid      target\n",
              "element_uid user_uid                                   \n",
              "584         326437          584.0  326437.0    2.796296\n",
              "702         359438          702.0  359438.0   18.483333\n",
              "888         470154          888.0  470154.0   22.069444\n",
              "1535        204443         1535.0  204443.0  207.595238\n",
              "2070        4744           2070.0    4744.0   55.916667\n",
              "2257        376701         2257.0  376701.0   14.194444\n",
              "2446        498941         2446.0  498941.0   91.511111\n",
              "4141        236834         4141.0  236834.0   90.033333\n",
              "5062        329518         5062.0  329518.0    0.000000\n",
              "5620        245788         5620.0  245788.0   90.424242\n",
              "5876        494188         5876.0  494188.0   17.722222\n",
              "5979        205446         5979.0  205446.0   38.683333\n",
              "6088        251258         6088.0  251258.0   89.666667\n",
              "6157        331957         6157.0  331957.0    0.000000\n",
              "6272        19948          6272.0   19948.0    0.242424\n",
              "6347        339401         6347.0  339401.0   26.416667\n",
              "6523        443142         6523.0  443142.0   94.291667\n",
              "9280        507590         9280.0  507590.0    3.575758\n",
              "9444        130329         9444.0  130329.0  103.858974\n",
              "9591        247599         9591.0  247599.0   45.233333"
            ]
          },
          "metadata": {
            "tags": []
          },
          "execution_count": 110
        }
      ]
    },
    {
      "cell_type": "code",
      "metadata": {
        "id": "pDyprl9xvZ-f",
        "outputId": "8b864a93-fee3-464e-be87-15a4ba8a5351",
        "colab": {
          "base_uri": "https://localhost:8080/",
          "height": 564
        }
      },
      "source": [
        "transactions_test.head()"
      ],
      "execution_count": 26,
      "outputs": [
        {
          "output_type": "execute_result",
          "data": {
            "text/html": [
              "<div>\n",
              "<style scoped>\n",
              "    .dataframe tbody tr th:only-of-type {\n",
              "        vertical-align: middle;\n",
              "    }\n",
              "\n",
              "    .dataframe tbody tr th {\n",
              "        vertical-align: top;\n",
              "    }\n",
              "\n",
              "    .dataframe thead th {\n",
              "        text-align: right;\n",
              "    }\n",
              "</style>\n",
              "<table border=\"1\" class=\"dataframe\">\n",
              "  <thead>\n",
              "    <tr style=\"text-align: right;\">\n",
              "      <th></th>\n",
              "      <th>index</th>\n",
              "      <th>element_uid</th>\n",
              "      <th>user_uid</th>\n",
              "      <th>consumption_mode</th>\n",
              "      <th>ts</th>\n",
              "      <th>watched_time</th>\n",
              "      <th>device_type</th>\n",
              "      <th>device_manufacturer</th>\n",
              "      <th>type</th>\n",
              "      <th>availability</th>\n",
              "      <th>duration</th>\n",
              "      <th>feature_1</th>\n",
              "      <th>feature_2</th>\n",
              "      <th>feature_3</th>\n",
              "      <th>feature_4</th>\n",
              "      <th>feature_5</th>\n",
              "      <th>attributes</th>\n",
              "      <th>target</th>\n",
              "    </tr>\n",
              "  </thead>\n",
              "  <tbody>\n",
              "    <tr>\n",
              "      <th>0</th>\n",
              "      <td>0</td>\n",
              "      <td>3336</td>\n",
              "      <td>5177</td>\n",
              "      <td>S</td>\n",
              "      <td>4.430518e+07</td>\n",
              "      <td>4282</td>\n",
              "      <td>0</td>\n",
              "      <td>50</td>\n",
              "      <td>movie</td>\n",
              "      <td>[purchase, rent, subscription]</td>\n",
              "      <td>6000</td>\n",
              "      <td>4.16611e+07</td>\n",
              "      <td>0.739609</td>\n",
              "      <td>45</td>\n",
              "      <td>1.14193</td>\n",
              "      <td>0.654707</td>\n",
              "      <td>[19924, 28181, 6732, 23032, 270, 24805, 43, 14...</td>\n",
              "      <td>0.713667</td>\n",
              "    </tr>\n",
              "    <tr>\n",
              "      <th>1</th>\n",
              "      <td>129</td>\n",
              "      <td>6656</td>\n",
              "      <td>1364</td>\n",
              "      <td>S</td>\n",
              "      <td>4.430514e+07</td>\n",
              "      <td>364</td>\n",
              "      <td>5</td>\n",
              "      <td>50</td>\n",
              "      <td>movie</td>\n",
              "      <td>[purchase, subscription]</td>\n",
              "      <td>7200</td>\n",
              "      <td>1.4943e+07</td>\n",
              "      <td>0.725499</td>\n",
              "      <td>28</td>\n",
              "      <td>1.13008</td>\n",
              "      <td>0.592716</td>\n",
              "      <td>[6165, 2331, 216, 798, 2352, 7, 3607, 31, 32, ...</td>\n",
              "      <td>0.0505556</td>\n",
              "    </tr>\n",
              "    <tr>\n",
              "      <th>2</th>\n",
              "      <td>355</td>\n",
              "      <td>7172</td>\n",
              "      <td>185</td>\n",
              "      <td>S</td>\n",
              "      <td>4.430508e+07</td>\n",
              "      <td>2607</td>\n",
              "      <td>0</td>\n",
              "      <td>11</td>\n",
              "      <td>multipart_movie</td>\n",
              "      <td>[purchase, rent, subscription]</td>\n",
              "      <td>1800</td>\n",
              "      <td>1.44411e+07</td>\n",
              "      <td>0.77078</td>\n",
              "      <td>12</td>\n",
              "      <td>1.06418</td>\n",
              "      <td>0</td>\n",
              "      <td>[33153, 10320, 17852, 16606, 5044, 396, 21854,...</td>\n",
              "      <td>1</td>\n",
              "    </tr>\n",
              "    <tr>\n",
              "      <th>3</th>\n",
              "      <td>463</td>\n",
              "      <td>3811</td>\n",
              "      <td>5076</td>\n",
              "      <td>S</td>\n",
              "      <td>4.430506e+07</td>\n",
              "      <td>2723</td>\n",
              "      <td>0</td>\n",
              "      <td>50</td>\n",
              "      <td>movie</td>\n",
              "      <td>[purchase, rent, subscription]</td>\n",
              "      <td>6000</td>\n",
              "      <td>3.65676e+07</td>\n",
              "      <td>0.703968</td>\n",
              "      <td>22</td>\n",
              "      <td>1.1386</td>\n",
              "      <td>0.449667</td>\n",
              "      <td>[690, 2360, 2361, 2362, 83, 7, 51, 2363, 1134,...</td>\n",
              "      <td>0.453833</td>\n",
              "    </tr>\n",
              "    <tr>\n",
              "      <th>4</th>\n",
              "      <td>485</td>\n",
              "      <td>6794</td>\n",
              "      <td>1994</td>\n",
              "      <td>S</td>\n",
              "      <td>4.430505e+07</td>\n",
              "      <td>5530</td>\n",
              "      <td>0</td>\n",
              "      <td>50</td>\n",
              "      <td>movie</td>\n",
              "      <td>[purchase, rent, subscription]</td>\n",
              "      <td>6600</td>\n",
              "      <td>4.24167e+07</td>\n",
              "      <td>0.619164</td>\n",
              "      <td>11</td>\n",
              "      <td>1.14027</td>\n",
              "      <td>0.68041</td>\n",
              "      <td>[20178, 20179, 20180, 20181, 192, 51, 20182, 3...</td>\n",
              "      <td>0.837879</td>\n",
              "    </tr>\n",
              "  </tbody>\n",
              "</table>\n",
              "</div>"
            ],
            "text/plain": [
              "   index  ...     target\n",
              "0      0  ...   0.713667\n",
              "1    129  ...  0.0505556\n",
              "2    355  ...          1\n",
              "3    463  ...   0.453833\n",
              "4    485  ...   0.837879\n",
              "\n",
              "[5 rows x 18 columns]"
            ]
          },
          "metadata": {
            "tags": []
          },
          "execution_count": 26
        }
      ]
    },
    {
      "cell_type": "code",
      "metadata": {
        "id": "PDI7WikCyfH3"
      },
      "source": [
        "matrix=[]\n",
        "for user in transactions_train.user_uid.unique():\n",
        "    matrix.append([transactions_train[transactions_train.user_uid == user].target])"
      ],
      "execution_count": 35,
      "outputs": []
    },
    {
      "cell_type": "code",
      "metadata": {
        "id": "rDK2WT0s0ucm"
      },
      "source": [
        "m = np.array(matrix)"
      ],
      "execution_count": 37,
      "outputs": []
    },
    {
      "cell_type": "code",
      "metadata": {
        "id": "TfT5eN1z02KM",
        "outputId": "38cfb82f-fec5-4911-95c8-9db9e4353796",
        "colab": {
          "base_uri": "https://localhost:8080/",
          "height": 881
        }
      },
      "source": [
        "m"
      ],
      "execution_count": 38,
      "outputs": [
        {
          "output_type": "execute_result",
          "data": {
            "text/plain": [
              "array([[0          0.557333\n",
              "3364       0.883636\n",
              "3442       0.830667\n",
              "3506       0.845152\n",
              "7648       0.831061\n",
              "9268              1\n",
              "15325        0.3975\n",
              "15442      0.934848\n",
              "15488      0.891061\n",
              "15864       0.90697\n",
              "15940     0.0898611\n",
              "15976      0.994545\n",
              "19535             1\n",
              "20814    0.00833333\n",
              "20826      0.339167\n",
              "20858     0.0148718\n",
              "21221      0.756167\n",
              "21279       0.80197\n",
              "29145             1\n",
              "72137        0.9785\n",
              "Name: target, dtype: object],\n",
              "       [1        0.857083\n",
              "2       0.0116667\n",
              "1063      0.64463\n",
              "1526            0\n",
              "Name: target, dtype: object],\n",
              "       [3         0.90131\n",
              "1016       0.5155\n",
              "1494     0.909722\n",
              "1980     0.831364\n",
              "2688     0.914405\n",
              "           ...   \n",
              "69813    0.906515\n",
              "69982    0.108182\n",
              "70420       0.377\n",
              "71402    0.903929\n",
              "72050           1\n",
              "Name: target, Length: 170, dtype: object],\n",
              "       ...,\n",
              "       [71942    0.876667\n",
              "72136    0.980641\n",
              "Name: target, dtype: object],\n",
              "       [72017    0.923333\n",
              "72030         0.5\n",
              "72115    0.541019\n",
              "Name: target, dtype: object],\n",
              "       [72096    1\n",
              "Name: target, dtype: object]], dtype=object)"
            ]
          },
          "metadata": {
            "tags": []
          },
          "execution_count": 38
        }
      ]
    },
    {
      "cell_type": "code",
      "metadata": {
        "id": "qOOUHdnj1nv7"
      },
      "source": [
        "class Rec:\n",
        "    def __init__(self, m1):\n",
        "        self.m = m1\n",
        "    def pred_u(self, u, v):\n",
        "        return ((self.m[self.m.user_uid == u].target - self.m[self.m.user_uid == u].target.mean()) * (self.m[self.m.user_uid == v].target - self.m[self.m.user_uid == v].target.mean())).sum() / \\\n",
        "        (np.sqrt(((self.m[self.m.user_uid == u].target - self.m[self.m.user_uid == u].target.mean()) ** 2).sum()) * np.sqrt(((self.m[self.m.user_uid == v].target - self.m[self.m.user_uid == v].target.mean()) ** 2).sum()))\n",
        "    def pred_i(self, u, v):\n",
        "        return ((self.m[self.m.element_uid == u].target - self.m[self.m.element_uid == u].target.mean()) * (self.m[self.m.element_uid == v].target - self.m[self.m.element_uid == v].target.mean())).sum() / \\\n",
        "        (np.sqrt(((self.m[self.m.element_uid == u].target - self.m[self.m.element_uid == u].target.mean()) ** 2).sum()) * np.sqrt(((self.m[self.m.element_uid == v].target - self.m[self.m.element_uid == v].target.mean()) ** 2).sum()))\n"
      ],
      "execution_count": 124,
      "outputs": []
    },
    {
      "cell_type": "code",
      "metadata": {
        "id": "0t-hkVTFfi5o",
        "outputId": "7da44cde-1e79-4066-d707-e4746b8b7229",
        "colab": {
          "base_uri": "https://localhost:8080/",
          "height": 359
        }
      },
      "source": [
        "class_rec = Rec(transactions1)\n",
        "selected_user = 326437\n",
        "u_pred_arr = []\n",
        "for user in list(transactions1[transactions1.user_uid != selected_user].user_uid):\n",
        "    cur = class_rec.pred_u(user, selected_user)\n",
        "    u_pred_arr.append((user, cur,))\n",
        "u_pred_arr = sorted(u_pred_arr, key=lambda x: x[1])\n",
        "u_pred_arr1 = pd.DataFrame(u_pred_arr, columns=['user_uid', 'p_score'])\n",
        "for _, score in u_pred_arr:\n",
        "    print('with min alpha score = ', score, 'we can recommend', transactions1[transactions1.user_uid.isin(u_pred_arr1[u_pred_arr1.p_score >= score].user_uid)].element_uid.nunique())"
      ],
      "execution_count": 136,
      "outputs": [
        {
          "output_type": "stream",
          "text": [
            "with min alpha score =  nan we can recommend 0\n",
            "with min alpha score =  nan we can recommend 0\n",
            "with min alpha score =  nan we can recommend 0\n",
            "with min alpha score =  nan we can recommend 0\n",
            "with min alpha score =  nan we can recommend 0\n",
            "with min alpha score =  nan we can recommend 0\n",
            "with min alpha score =  nan we can recommend 0\n",
            "with min alpha score =  nan we can recommend 0\n",
            "with min alpha score =  nan we can recommend 0\n",
            "with min alpha score =  nan we can recommend 0\n",
            "with min alpha score =  nan we can recommend 0\n",
            "with min alpha score =  nan we can recommend 0\n",
            "with min alpha score =  nan we can recommend 0\n",
            "with min alpha score =  nan we can recommend 0\n",
            "with min alpha score =  nan we can recommend 0\n",
            "with min alpha score =  nan we can recommend 0\n",
            "with min alpha score =  nan we can recommend 0\n",
            "with min alpha score =  nan we can recommend 0\n",
            "with min alpha score =  nan we can recommend 0\n"
          ],
          "name": "stdout"
        }
      ]
    },
    {
      "cell_type": "code",
      "metadata": {
        "id": "9feM92PIOUU2"
      },
      "source": [
        ""
      ],
      "execution_count": null,
      "outputs": []
    },
    {
      "cell_type": "code",
      "metadata": {
        "id": "v8m41Zvjfn_h",
        "outputId": "c0dcbb48-4f12-43f9-8544-c56fb1ce85c4",
        "colab": {
          "base_uri": "https://localhost:8080/",
          "height": 235
        }
      },
      "source": [
        "transactions1.head()"
      ],
      "execution_count": 135,
      "outputs": [
        {
          "output_type": "execute_result",
          "data": {
            "text/html": [
              "<div>\n",
              "<style scoped>\n",
              "    .dataframe tbody tr th:only-of-type {\n",
              "        vertical-align: middle;\n",
              "    }\n",
              "\n",
              "    .dataframe tbody tr th {\n",
              "        vertical-align: top;\n",
              "    }\n",
              "\n",
              "    .dataframe thead th {\n",
              "        text-align: right;\n",
              "    }\n",
              "</style>\n",
              "<table border=\"1\" class=\"dataframe\">\n",
              "  <thead>\n",
              "    <tr style=\"text-align: right;\">\n",
              "      <th></th>\n",
              "      <th></th>\n",
              "      <th>element_uid</th>\n",
              "      <th>user_uid</th>\n",
              "      <th>target</th>\n",
              "    </tr>\n",
              "    <tr>\n",
              "      <th>element_uid</th>\n",
              "      <th>user_uid</th>\n",
              "      <th></th>\n",
              "      <th></th>\n",
              "      <th></th>\n",
              "    </tr>\n",
              "  </thead>\n",
              "  <tbody>\n",
              "    <tr>\n",
              "      <th>584</th>\n",
              "      <th>326437</th>\n",
              "      <td>584.0</td>\n",
              "      <td>326437.0</td>\n",
              "      <td>2.796296</td>\n",
              "    </tr>\n",
              "    <tr>\n",
              "      <th>702</th>\n",
              "      <th>359438</th>\n",
              "      <td>702.0</td>\n",
              "      <td>359438.0</td>\n",
              "      <td>18.483333</td>\n",
              "    </tr>\n",
              "    <tr>\n",
              "      <th>888</th>\n",
              "      <th>470154</th>\n",
              "      <td>888.0</td>\n",
              "      <td>470154.0</td>\n",
              "      <td>22.069444</td>\n",
              "    </tr>\n",
              "    <tr>\n",
              "      <th>1535</th>\n",
              "      <th>204443</th>\n",
              "      <td>1535.0</td>\n",
              "      <td>204443.0</td>\n",
              "      <td>207.595238</td>\n",
              "    </tr>\n",
              "    <tr>\n",
              "      <th>2070</th>\n",
              "      <th>4744</th>\n",
              "      <td>2070.0</td>\n",
              "      <td>4744.0</td>\n",
              "      <td>55.916667</td>\n",
              "    </tr>\n",
              "  </tbody>\n",
              "</table>\n",
              "</div>"
            ],
            "text/plain": [
              "                      element_uid  user_uid      target\n",
              "element_uid user_uid                                   \n",
              "584         326437          584.0  326437.0    2.796296\n",
              "702         359438          702.0  359438.0   18.483333\n",
              "888         470154          888.0  470154.0   22.069444\n",
              "1535        204443         1535.0  204443.0  207.595238\n",
              "2070        4744           2070.0    4744.0   55.916667"
            ]
          },
          "metadata": {
            "tags": []
          },
          "execution_count": 135
        }
      ]
    },
    {
      "cell_type": "code",
      "metadata": {
        "id": "5MFtRC8LgGbv"
      },
      "source": [
        "# for i in list(transactions1.user_uid.unique()):\n",
        "#     for j in list(transactions1.user_uid.unique()):\n",
        "#         if ff.pred_p(i, j) > 0.0:\n",
        "#             print(i, j)"
      ],
      "execution_count": 118,
      "outputs": []
    },
    {
      "cell_type": "code",
      "metadata": {
        "id": "u1pRXbnJotle"
      },
      "source": [
        "# transactions.groupby(['element_uid']).count()"
      ],
      "execution_count": 119,
      "outputs": []
    }
  ]
}